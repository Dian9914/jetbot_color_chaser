{
 "cells": [
  {
   "attachments": {
    "calibration_base.png": {
     "image/png": "[encoded data removed]"
    }
   },
   "cell_type": "markdown",
   "metadata": {},
   "source": [
    "# Calibracion del motor\n",
    "## Necesidad de calibrar\n",
    "Se va a trabajar con la calibracion de los motores. Cuando se controla un motor de corriente continua, la corriente que se envia a los motores se controla con un parámetro ``y`` comprendido entre -1 y 1, donde: \n",
    "* ``y = 1`` implica que el motor recibe la máxima corriente que permite.\n",
    "* ``y = -1`` implica que el motor recibe la máxima corriente que permite en sentido contrario, invirtiendo el sentido de giro.\n",
    "* ``y = 0`` implica que el motor no recibe corriente.\n",
    "\n",
    "Existen dos problemas con este parametro ``y``:\n",
    "\n",
    "* El primero es que no se relaciona linealmente con la velocidad. Los motores usados en el Jetbot tienen un umbral de corriente mínima para poder mover el robot: cuando ``y = 0.1``, lo más probable es que el motor no se mueva en absoluto. Esto es un problema pues en numerosas ocasiones un controlador buscará hacer movimientos lentos y para ello generará valores de ``y`` pequeños, que no moveran el robot en absoluto.\n",
    "\n",
    "* El segundo viene derivado del hecho de que no existen dos motores exactamente iguales. Para distintos motores, un mismo valor de ``y`` va a proporcionar distintas velocidades. De ahí surge la necesidad de tener alguna forma de \"ajustar\" ese valor de ``y`` de forma individual a cada motor, ya que en la aplicación de interes (un robot diferencial), se dispone de dos motores distintos trabajando juntos.\n",
    "\n",
    "Para corregir estos problemas con el parametro ``y``, se propone crear el parametro ``x``, un valor intermedio que representa la velocidad deseada en una escala del -1 al 1, donde:\n",
    "* ``x = 1`` implica que el motor gira a su velocidad máxima.\n",
    "* ``x = -1`` implica que el motor gira a su velocidad máxima en sentido inverso de giro.\n",
    "* ``x = 0`` implica que el motor esta parado.\n",
    "\n",
    "Este parametro ``x`` permite obtener el parametro ``y`` a partir de la expresión ``y = alpha * x + beta`` para ``x > 0`` y ``y = alpha * x - beta`` para ``x < 0``. El interes de obtener el parametro ``y`` de este modo radica en los parametros ``alpha`` y ``beta``, que permiten personalizar la respuesta del robot. ``beta`` define ese umbral mínimo de tensión necesaria para mover el robot mientras que ``alpha`` permite modificar la pendiente con la que sube ``y`` para un valor de ``x`` concreto. Estos ajustes permiten que, en teoria, para una misma entrada ``x = 0.1`` introducida en ambos motores, estos se muevan a la misma velocidad, que debería ser aproximadamente un décimo de su velocidad máxima.\n",
    "\n",
    "A continuación se muestra una gráfica con la relación entre ``x`` e ``y``.\n",
    "\n",
    "![calibration_base.png](attachment:calibration_base.png)\n",
    "\n",
    "La calibración consiste en encontrar esos valores de ``alpha`` y ``beta`` que permiten a ambos motores moverse aproximadamente a la misma velocidad para un mismo valor de entrada ``x``.\n",
    "\n",
    "## Proceso de calibración\n",
    "Primero se van a calibrar los motores usando las librerias que vienen preinstaladas en el Jetbot, que implementan el mecanismo de calibración descrito. Para ello, se siguen los siguientes pasos:\n",
    "\n",
    "### Comprobación de los valores\n",
    "Para mover los motores se utiliza un comando de las librerias de control que directamente aplica la expresión ``y = alpha * x + beta``. En este caso los valores de ``alpha`` y ``beta`` son inicialmente 1.0 y 0.0 respectivamente.\n",
    "\n",
    "Para probar esto, en el siguiente codigo se obtienen los valores de cada parametro tras la inicialización de las librerias de control:"
   ]
  },
  {
   "cell_type": "code",
   "execution_count": 1,
   "metadata": {},
   "outputs": [
    {
     "name": "stdout",
     "output_type": "stream",
     "text": [
      "El valor alpha del motor izquierdo es: 1.0\n",
      "El valor alpha del motor derecho es: 1.0\n",
      "El valor beta del motor izquierdo es: 0.0\n",
      "El valor beta del motor derecho es: 0.0\n"
     ]
    }
   ],
   "source": [
    "from jetbot import Robot\n",
    "robot = Robot()\n",
    "\n",
    "print(f'El valor alpha del motor izquierdo es: {robot.left_motor.alpha}')\n",
    "print(f'El valor alpha del motor derecho es: {robot.right_motor.alpha}')\n",
    "print(f'El valor beta del motor izquierdo es: {robot.left_motor.beta}')\n",
    "print(f'El valor beta del motor derecho es: {robot.right_motor.beta}')"
   ]
  },
  {
   "cell_type": "markdown",
   "metadata": {},
   "source": [
    "### Calibración de beta\n",
    "Se comienza calibrando ``beta``. Para la calibración de ``beta``, simplemente se debe combrobar para que valores de ``x`` empieza a moverse cada motor (teniendo en cuenta que en este punto de la calibración ``y = x``). \n",
    "\n",
    "Para facilitar la tarea, se configura una interefaz simple que permite probar el movimiento de los motores:"
   ]
  },
  {
   "cell_type": "code",
   "execution_count": 6,
   "metadata": {},
   "outputs": [
    {
     "data": {
      "application/vnd.jupyter.widget-view+json": {
       "model_id": "51d34a5d072e4b77a69dbca28e5b14ca",
       "version_major": 2,
       "version_minor": 0
      },
      "text/plain": [
       "HBox(children=(FloatSlider(value=0.0, description='left', max=1.0, min=-1.0, orientation='vertical', step=0.01…"
      ]
     },
     "metadata": {},
     "output_type": "display_data"
    }
   ],
   "source": [
    "import time\n",
    "import ipywidgets.widgets as widgets\n",
    "from IPython.display import display\n",
    "import traitlets\n",
    "\n",
    "# crea dos slider con un rango de [-1.0, 1.0]\n",
    "left_slider = widgets.FloatSlider(description='left', min=-1.0, max=1.0, step=0.01, orientation='vertical')\n",
    "right_slider = widgets.FloatSlider(description='right', min=-1.0, max=1.0, step=0.01, orientation='vertical')\n",
    "\n",
    "# crea botones\n",
    "button_layout = widgets.Layout(width='100px', height='80px', align_self='center')\n",
    "stop_button = widgets.Button(description='stop', button_style='danger', layout=button_layout, color='red')\n",
    "run_button = widgets.Button(description='run', layout=button_layout)\n",
    "\n",
    "# se crea un contenedor donde colocar los sliders y botones\n",
    "ui_container = widgets.HBox([left_slider, right_slider, run_button, stop_button])\n",
    "\n",
    "# se muestra el contenedor\n",
    "display(ui_container)\n",
    "\n",
    "# finalmente, se conecta el movimiento del robot a los botones, dandoles funcion\n",
    "\n",
    "# primero se definen las funciones que han de ejecutarse cuando se pulsa cada boton\n",
    "def force_stop(change):\n",
    "    robot.right_motor._release()\n",
    "    robot.left_motor._release()\n",
    "\n",
    "def run_bot(change):\n",
    "    robot.set_motors(left_slider.value, right_slider.value)\n",
    "    time.sleep(2.0)\n",
    "    robot.right_motor._release()\n",
    "    robot.left_motor._release()\n",
    "    \n",
    "# y se conectan los botones a las acciones\n",
    "stop_button.on_click(force_stop)\n",
    "run_button.on_click(run_bot)"
   ]
  },
  {
   "cell_type": "code",
   "execution_count": 8,
   "metadata": {},
   "outputs": [],
   "source": [
    "robot.set_motors(-0.1, -0.1)\n",
    "time.sleep(2.0)\n",
    "robot.right_motor._release()\n",
    "robot.left_motor._release()"
   ]
  },
  {
   "cell_type": "markdown",
   "metadata": {},
   "source": [
    "El proceso de calibración de ``beta`` consiste en encontrar el mínimo valor de ``x`` mueve los motores desde el reposo. Una vez encontrados los valores, se apuntan para usarlos en la aplicación final.\n",
    "\n",
    "Es importante tener en cuenta que ``beta`` no es el mismo cuando ambos motores se mueven a la vez que cuando se mueven de uno en uno. Idealmente, en la aplicación final ambos motores siempre se moveran a la vez, por lo que las ``betas`` que obtendremos serán siempre tratando de mover ambos motores a la vez. Esto añade una nueva condición que deben cumplir ambas ``betas``: deben mover ambos motores a la misma velocidad. En caso contrario, encontrariamos un desequilibrio entre los motores que ``alpha`` no podría corregir.\n",
    "\n",
    "> CUIDADO: Si el robot pierde la conexion justo despues de ejecutar la orden de movimiento pero antes de recibir la de parada, el robot podría empezar a moverse sin control. Para evitar esto, introducimos  un \"Heartbeat killswitch\" que evitará que el robot se mueva si este se desconecta en algún momento."
   ]
  },
  {
   "cell_type": "code",
   "execution_count": 3,
   "metadata": {},
   "outputs": [],
   "source": [
    "from jetbot import Heartbeat\n",
    "\n",
    "heartbeat = Heartbeat()\n",
    "\n",
    "# esta funcion es llamada si el estado del heartbeat cambia, es decir, si el robot se desconecta\n",
    "def handle_heartbeat_status(change):\n",
    "    if change['new'] == Heartbeat.Status.dead:\n",
    "        robot.stop()\n",
    "        \n",
    "heartbeat.observe(handle_heartbeat_status, names='status')"
   ]
  },
  {
   "cell_type": "markdown",
   "metadata": {},
   "source": [
    "Para continuar el proceso de calibración, aplicamos el nuevo valor de ``beta`` a cada motor usando los siguientes comandos:"
   ]
  },
  {
   "cell_type": "code",
   "execution_count": 4,
   "metadata": {},
   "outputs": [],
   "source": [
    "# Resultados obtenidos de beta\n",
    "robot.left_motor.beta = 0.30\n",
    "robot.right_motor.beta = 0.37\n",
    "\n",
    "\n"
   ]
  },
  {
   "cell_type": "markdown",
   "metadata": {},
   "source": [
    "Podemos comprobar los nuevos valores calibrados a continuacion:"
   ]
  },
  {
   "cell_type": "code",
   "execution_count": 5,
   "metadata": {},
   "outputs": [
    {
     "name": "stdout",
     "output_type": "stream",
     "text": [
      "El valor alpha del motor izquierdo es: 1.0\n",
      "El valor alpha del motor derecho es: 1.0\n",
      "El valor beta del motor izquierdo es: 0.3\n",
      "El valor beta del motor derecho es: 0.37\n"
     ]
    }
   ],
   "source": [
    "print(f'El valor alpha del motor izquierdo es: {robot.left_motor.alpha}')\n",
    "print(f'El valor alpha del motor derecho es: {robot.right_motor.alpha}')\n",
    "\n",
    "print(f'El valor beta del motor izquierdo es: {robot.left_motor.beta}')\n",
    "print(f'El valor beta del motor derecho es: {robot.right_motor.beta}')"
   ]
  },
  {
   "cell_type": "markdown",
   "metadata": {},
   "source": [
    "## Calibración de alpha\n",
    "El último paso para completar la calibración es calibrar alpha. Para ello, se hacen pruebas con valores extremos de ``x``, buscando que los motores se muevan a la misma velocidad para cualquier valor de ``x``. Para ello, se utiliza la misma interfaz del apartado anterior, asegurando que los parametros de ``beta`` hallados en el anterior apartado han sido introducidos en la libreria.\n",
    "\n",
    "Sin embargo, resulta imposible completar este proceso de forma normal, ya que en el momento en el que se prueban las velocidades negativas el comportamiento del robot empieza a ser erratico."
   ]
  },
  {
   "cell_type": "markdown",
   "metadata": {},
   "source": [
    "## Problema de la calibracion lineal. Solución.\n",
    "El principal problema que se encuentra con este proceso de calibración radica en las librerias utilizadas. ``alpha`` y ``beta`` solo sirven para ajustar una funcion lineal y positiva, lo que impide detener el motor dandole a x un valor de 0 o utilizar correctamente la marcha atras. \n",
    "\n",
    "> Este error en las librerias se debe a que el Jetbot nunca fue diseñado para un control fino. Se puede ver claramente como se prefiere el uso de funciones como \"forward\" o \"left\" que simplemente le dan un ``x = 1`` al motor correspondiente.\n",
    "\n",
    "Para solucionar este problema se desarrollan unas librerias propias que introducen una calibracion mas acertada. Estas librerias tendran nuevos parametros de calibración alpha, beta y gamma para cada motor.\n",
    "\n",
    "Nuestro objetivo es crear un nuevo metodo que reciba valores entre -1 y 1 los cuales de comporten siguiendo las siguientes especificaciones:\n",
    "\n",
    "* Para valores en el intervalo [-gamma, gamma], el motor no se moverá, es decir, recibirá un 0. Esto sirve de medida de seguridad por si los joystick estan algo descentrados, por lo que los valores de gamma seran muy pequeños, 0.01 o 0.02.\n",
    "\n",
    "* Para el resto de valores positivos, el motor recibirá un valor que responde a la función ``y = alpha * (x - gamma) + beta``.\n",
    "\n",
    "* Para el resto de valores negativos, el motor recibirá un valor que responde a la función ``y = alpha * (x + gamma) - beta``."
   ]
  },
  {
   "cell_type": "code",
   "execution_count": 2,
   "metadata": {},
   "outputs": [],
   "source": [
    "from jetbot import Robot\n",
    "import traitlets\n",
    "\n",
    "robot=Robot()\n",
    "\n",
    "class Imp_Motor(traitlets.HasTraits):\n",
    "    # Parametro de salida que se envia al motor    \n",
    "    smotor=traitlets.Float(default_value=0.0).tag(config=True)\n",
    "    \n",
    "    # Parametro de entrada de velocidad deseada\n",
    "    speed=traitlets.Float(default_value=0.0).tag(config=True)\n",
    "    \n",
    "    # Parametros de configuración\n",
    "    alpha=traitlets.Float(default_value=1.0).tag(config=True)\n",
    "    beta=traitlets.Float(default_value=0.0).tag(config=True)\n",
    "    gamma=traitlets.Float(default_value=0.01).tag(config=True)\n",
    "    \n",
    "    # Metodos setter\n",
    "    def set_speed(self, speed):\n",
    "        self.speed=speed\n",
    "        \n",
    "    def set_smotor(self, smotor):\n",
    "        self.smotor=smotor\n",
    "        \n",
    "    def set_alpha(self, alpha):\n",
    "        self.alpha=alpha\n",
    "        \n",
    "    def set_beta(self, beta):\n",
    "        self.beta=beta\n",
    "        \n",
    "    def set_gamma(self, gamma):\n",
    "        self.gamma=gamma\n",
    "        \n",
    "    # Metodos de la clase\n",
    "    def calibrate(self, alpha, beta, gamma):\n",
    "        self.set_alpha(alpha)\n",
    "        self.set_beta(beta)\n",
    "        self.set_gamma(gamma)\n",
    "        \n",
    "    def calibrate_speed(self, speed):\n",
    "        if speed > self.gamma:\n",
    "            smotor = self.alpha * (speed - self.gamma) + self.beta\n",
    "        elif speed < -self.gamma:\n",
    "            smotor = self.alpha * (speed + self.gamma) - self.beta\n",
    "        else:\n",
    "            smotor = 0\n",
    "        return smotor\n",
    "    \n",
    "    # Metodos observe (metodos que se activan cuando el valor cambia)\n",
    "    @traitlets.observe('speed')\n",
    "    def _observe_speed(self, change):\n",
    "        self._write_speed(change['new'])\n",
    "\n",
    "    def _write_speed(self, speed):\n",
    "        smotor = self.calibrate_speed(speed)\n",
    "        self.set_smotor(smotor)\n",
    "       "
   ]
  },
  {
   "cell_type": "markdown",
   "metadata": {},
   "source": [
    "Esta clase proveera el comportamiento deseado, como vamos a comprobar ahora utilizando dos sliders para simular la entrada y dos sliders que simularan la entrada a los motores."
   ]
  },
  {
   "cell_type": "code",
   "execution_count": 3,
   "metadata": {},
   "outputs": [
    {
     "data": {
      "application/vnd.jupyter.widget-view+json": {
       "model_id": "e73737b04d004e32ad022f1fa892da8a",
       "version_major": 2,
       "version_minor": 0
      },
      "text/plain": [
       "HBox(children=(FloatSlider(value=0.0, description='left speed', max=1.0, min=-1.0, orientation='vertical', ste…"
      ]
     },
     "metadata": {},
     "output_type": "display_data"
    }
   ],
   "source": [
    "import ipywidgets.widgets as widgets\n",
    "from IPython.display import display\n",
    "\n",
    "# create two sliders with range [-1.0, 1.0]\n",
    "left_speed = widgets.FloatSlider(description='left speed', min=-1.0, max=1.0, step=0.01, orientation='vertical')\n",
    "right_speed = widgets.FloatSlider(description='right speed', min=-1.0, max=1.0, step=0.01, orientation='vertical')\n",
    "\n",
    "left_motor = widgets.FloatSlider(description='lmotor input', min=-1.0, max=1.0, step=0.01, orientation='vertical')\n",
    "right_motor = widgets.FloatSlider(description='rmotor input', min=-1.0, max=1.0, step=0.01, orientation='vertical')\n",
    "\n",
    "# create a horizontal box container to place the sliders next to eachother\n",
    "slider_container = widgets.HBox([left_speed, right_speed, left_motor, right_motor])\n",
    "\n",
    "# display the container in this cell's output\n",
    "display(slider_container)\n",
    "\n",
    "# create the motor instances\n",
    "lmotor = Imp_Motor()\n",
    "rmotor = Imp_Motor()\n",
    "\n",
    "# calibrate randomly\n",
    "lmotor.set_beta(0.3)\n",
    "lmotor.set_alpha(0.7)\n",
    "lmotor.set_gamma(0.05)\n",
    "\n",
    "rmotor.set_beta(0.4)\n",
    "rmotor.set_alpha(0.5)\n",
    "rmotor.set_gamma(0.01)\n",
    "\n",
    "# link the sliders\n",
    "lspeed_link = traitlets.link((left_speed, 'value'), (lmotor, 'speed'))\n",
    "rspeed_link = traitlets.link((right_speed, 'value'), (rmotor, 'speed'))\n",
    "lmotor_link = traitlets.link((lmotor, 'smotor'), (left_motor, 'value'))\n",
    "rmotor_link = traitlets.link((rmotor, 'smotor'), (right_motor, 'value'))"
   ]
  },
  {
   "cell_type": "markdown",
   "metadata": {},
   "source": [
    "Ahora podemos repetir el proceso de calibración explicado al principio de este código.\n",
    "\n",
    "#### Calibración no lineal\n",
    "Repetimos los codigos anteriores para dimensionar alpha y beta. Comenzaremos con beta, siendo el valor mas sencillo de calibrar."
   ]
  },
  {
   "cell_type": "code",
   "execution_count": 4,
   "metadata": {},
   "outputs": [
    {
     "data": {
      "application/vnd.jupyter.widget-view+json": {
       "model_id": "75f76a93aec4412dbebae4cad8a9ec09",
       "version_major": 2,
       "version_minor": 0
      },
      "text/plain": [
       "HBox(children=(FloatSlider(value=0.0, description='left', max=1.0, min=-1.0, orientation='vertical', step=0.01…"
      ]
     },
     "metadata": {},
     "output_type": "display_data"
    }
   ],
   "source": [
    "import time\n",
    "import ipywidgets.widgets as widgets\n",
    "from IPython.display import display\n",
    "\n",
    "# create the motor instances\n",
    "lmotor = Imp_Motor()\n",
    "rmotor = Imp_Motor()\n",
    "\n",
    "# create two sliders with range [-1.0, 1.0]\n",
    "left_slider = widgets.FloatSlider(description='left', min=-1.0, max=1.0, step=0.01, orientation='vertical')\n",
    "right_slider = widgets.FloatSlider(description='right', min=-1.0, max=1.0, step=0.01, orientation='vertical')\n",
    "left_beta_slider = widgets.FloatSlider(description='left_b', min=0, max=1.0, step=0.01, orientation='vertical')\n",
    "right_beta_slider = widgets.FloatSlider(description='right_b', min=0, max=1.0, step=0.01, orientation='vertical')\n",
    "left_alpha_slider = widgets.FloatSlider(description='left_a', min=0, max=1.0, step=0.01, orientation='vertical')\n",
    "right_alpha_slider = widgets.FloatSlider(description='right_a', min=0, max=1.0, step=0.01, orientation='vertical')\n",
    "\n",
    "# create buttons\n",
    "button_layout = widgets.Layout(width='100px', height='80px', align_self='center')\n",
    "stop_button = widgets.Button(description='stop', button_style='danger', layout=button_layout, color='red')\n",
    "run_button = widgets.Button(description='run', layout=button_layout)\n",
    "calibre_button = widgets.Button(description='calibrate', layout=button_layout)\n",
    "\n",
    "# create a horizontal box container to place the sliders and the button next to eachother\n",
    "slider_container = widgets.HBox([left_slider, right_slider, left_beta_slider, right_beta_slider, left_alpha_slider, right_alpha_slider, run_button, stop_button, calibre_button])\n",
    "\n",
    "# display the container in this cell's output\n",
    "display(slider_container)\n",
    "\n",
    "\n"
   ]
  },
  {
   "cell_type": "code",
   "execution_count": null,
   "metadata": {},
   "outputs": [],
   "source": [
    "# actions\n",
    "def stop(change):\n",
    "    robot.stop()\n",
    "    \n",
    "def step_forward(change):\n",
    "    robot.set_motors(lmotor.smotor,rmotor.smotor)\n",
    "    time.sleep(1)\n",
    "    robot.left_motor.value=0\n",
    "    robot.right_motor.value=0\n",
    "    \n",
    "def calibrar(change):\n",
    "    lmotor.set_alpha(left_alpha_slider.value)\n",
    "    rmotor.set_alpha(right_alpha_slider.value)\n",
    "    lmotor.set_beta(left_beta_slider.value)\n",
    "    rmotor.set_beta(right_beta_slider.value)\n",
    "    lmotor.calibrate_speed(left_slider.value)\n",
    "    rmotor.calibrate_speed(right_slider.value)"
   ]
  },
  {
   "cell_type": "code",
   "execution_count": 37,
   "metadata": {},
   "outputs": [],
   "source": [
    "# link buttons to actions\n",
    "stop_button.on_click(stop)\n",
    "run_button.on_click(step_forward)\n",
    "calibre_button.on_click(calibrar)\n",
    "\n",
    "# link the sliders\n",
    "lspeed_link = traitlets.link((left_slider, 'value'), (lmotor, 'speed'))\n",
    "rspeed_link = traitlets.link((right_slider, 'value'), (rmotor, 'speed'))"
   ]
  },
  {
   "cell_type": "code",
   "execution_count": 36,
   "metadata": {},
   "outputs": [],
   "source": [
    "# unlink \n",
    "lspeed_link.unlink()\n",
    "rspeed_link.unlink()"
   ]
  },
  {
   "cell_type": "markdown",
   "metadata": {},
   "source": [
    "Para beta tomamos los valores para los cuales los motores se empiezan a mover sin tener carga de manera consistente.\n",
    "Para alpha, hacemos pruebas con 0.1, 0.4 y 0.6 de velocidad, buscando que el robot se mueva lo mas recto posible. \n",
    "Encontramos varios problemas a la hora de la aceleracion inicial y el frenado, ya que son muy bruscos.\n",
    "* beta izquierda 0.23\n",
    "* beta derecha 0.24\n",
    "* alpha izquierda 0.87\n",
    "* alpha derecha 0.8"
   ]
  }
 ],
 "metadata": {
  "kernelspec": {
   "display_name": "Python 3",
   "language": "python",
   "name": "python3"
  },
  "language_info": {
   "codemirror_mode": {
    "name": "ipython",
    "version": 3
   },
   "file_extension": ".py",
   "mimetype": "text/x-python",
   "name": "python",
   "nbconvert_exporter": "python",
   "pygments_lexer": "ipython3",
   "version": "3.6.9"
  }
 },
 "nbformat": 4,
 "nbformat_minor": 4
}
